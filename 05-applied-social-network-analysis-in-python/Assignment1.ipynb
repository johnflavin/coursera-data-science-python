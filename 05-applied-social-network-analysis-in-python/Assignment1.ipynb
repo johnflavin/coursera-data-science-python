{
 "cells": [
  {
   "cell_type": "markdown",
   "metadata": {},
   "source": [
    "---\n",
    "\n",
    "_You are currently looking at **version 1.1** of this notebook. To download notebooks and datafiles, as well as get help on Jupyter notebooks in the Coursera platform, visit the [Jupyter Notebook FAQ](https://www.coursera.org/learn/python-social-network-analysis/resources/yPcBs) course resource._\n",
    "\n",
    "---"
   ]
  },
  {
   "cell_type": "markdown",
   "metadata": {},
   "source": [
    "# Assignment 1 - Creating and Manipulating Graphs\n",
    "\n",
    "Eight employees at a small company were asked to choose 3 movies that they would most enjoy watching for the upcoming company movie night. These choices are stored in the file `Employee_Movie_Choices.txt`.\n",
    "\n",
    "A second file, `Employee_Relationships.txt`, has data on the relationships between different coworkers. \n",
    "\n",
    "The relationship score has value of `-100` (Enemies) to `+100` (Best Friends). A value of zero means the two employees haven't interacted or are indifferent.\n",
    "\n",
    "Both files are tab delimited."
   ]
  },
  {
   "cell_type": "code",
   "execution_count": 3,
   "metadata": {},
   "outputs": [],
   "source": [
    "import networkx as nx\n",
    "import pandas as pd\n",
    "import numpy as np\n",
    "from networkx.algorithms import bipartite\n",
    "\n",
    "\n",
    "# This is the set of employees\n",
    "employees = set(['Pablo',\n",
    "                 'Lee',\n",
    "                 'Georgia',\n",
    "                 'Vincent',\n",
    "                 'Andy',\n",
    "                 'Frida',\n",
    "                 'Joan',\n",
    "                 'Claude'])\n",
    "\n",
    "# This is the set of movies\n",
    "movies = set(['The Shawshank Redemption',\n",
    "              'Forrest Gump',\n",
    "              'The Matrix',\n",
    "              'Anaconda',\n",
    "              'The Social Network',\n",
    "              'The Godfather',\n",
    "              'Monty Python and the Holy Grail',\n",
    "              'Snakes on a Plane',\n",
    "              'Kung Fu Panda',\n",
    "              'The Dark Knight',\n",
    "              'Mean Girls'])\n",
    "\n",
    "\n",
    "# you can use the following function to plot graphs\n",
    "# make sure to comment it out before submitting to the autograder\n",
    "def plot_graph(G, weight_name=None):\n",
    "    '''\n",
    "    G: a networkx G\n",
    "    weight_name: name of the attribute for plotting edge weights (if G is weighted)\n",
    "    '''\n",
    "    %matplotlib notebook\n",
    "    import matplotlib.pyplot as plt\n",
    "    \n",
    "    plt.figure()\n",
    "    pos = nx.spring_layout(G)\n",
    "    edges = G.edges()\n",
    "    weights = None\n",
    "    \n",
    "    if weight_name:\n",
    "        weights = [int(G[u][v][weight_name]) for u,v in edges]\n",
    "        labels = nx.get_edge_attributes(G,weight_name)\n",
    "        nx.draw_networkx_edge_labels(G,pos,edge_labels=labels)\n",
    "        nx.draw_networkx(G, pos, edges=edges, width=weights);\n",
    "    else:\n",
    "        nx.draw_networkx(G, pos, edges=edges);"
   ]
  },
  {
   "cell_type": "markdown",
   "metadata": {},
   "source": [
    "### Question 1\n",
    "\n",
    "Using NetworkX, load in the bipartite graph from `Employee_Movie_Choices.txt` and return that graph.\n",
    "\n",
    "*This function should return a networkx graph with 19 nodes and 24 edges*"
   ]
  },
  {
   "cell_type": "code",
   "execution_count": 23,
   "metadata": {},
   "outputs": [
    {
     "name": "stdout",
     "output_type": "stream",
     "text": [
      "EDGES: 24\n",
      "('Andy', 'Anaconda')\n",
      "('Andy', 'Mean Girls')\n",
      "('Andy', 'The Matrix')\n",
      "('Anaconda', 'Claude')\n",
      "('Anaconda', 'Georgia')\n",
      "('Mean Girls', 'Joan')\n",
      "('Mean Girls', 'Lee')\n",
      "('The Matrix', 'Frida')\n",
      "('The Matrix', 'Pablo')\n",
      "('Claude', 'Monty Python and the Holy Grail')\n",
      "('Claude', 'Snakes on a Plane')\n",
      "('Monty Python and the Holy Grail', 'Georgia')\n",
      "('Snakes on a Plane', 'Georgia')\n",
      "('Frida', 'The Shawshank Redemption')\n",
      "('Frida', 'The Social Network')\n",
      "('The Shawshank Redemption', 'Pablo')\n",
      "('The Shawshank Redemption', 'Vincent')\n",
      "('The Social Network', 'Vincent')\n",
      "('Joan', 'Forrest Gump')\n",
      "('Joan', 'Kung Fu Panda')\n",
      "('Forrest Gump', 'Lee')\n",
      "('Kung Fu Panda', 'Lee')\n",
      "('Pablo', 'The Dark Knight')\n",
      "('Vincent', 'The Godfather')\n",
      "\n",
      "NODES: 19\n",
      "Andy\n",
      "Anaconda\n",
      "Mean Girls\n",
      "The Matrix\n",
      "Claude\n",
      "Monty Python and the Holy Grail\n",
      "Snakes on a Plane\n",
      "Frida\n",
      "The Shawshank Redemption\n",
      "The Social Network\n",
      "Georgia\n",
      "Joan\n",
      "Forrest Gump\n",
      "Kung Fu Panda\n",
      "Lee\n",
      "Pablo\n",
      "The Dark Knight\n",
      "Vincent\n",
      "The Godfather\n"
     ]
    }
   ],
   "source": [
    "def answer_one():\n",
    "    return nx.read_edgelist('Employee_Movie_Choices.txt', delimiter='\\t')\n",
    "\n",
    "G = answer_one()\n",
    "print(\"EDGES: {}\".format(G.number_of_edges()))\n",
    "for edge in G.edges():\n",
    "    print(edge)\n",
    "\n",
    "print(\"\\nNODES: {}\".format(G.number_of_nodes()))\n",
    "for node in G.nodes():\n",
    "    print(node)"
   ]
  },
  {
   "cell_type": "markdown",
   "metadata": {},
   "source": [
    "### Question 2\n",
    "\n",
    "Using the graph from the previous question, add nodes attributes named `'type'` where movies have the value `'movie'` and employees have the value `'employee'` and return that graph.\n",
    "\n",
    "*This function should return a networkx graph with node attributes `{'type': 'movie'}` or `{'type': 'employee'}`*"
   ]
  },
  {
   "cell_type": "code",
   "execution_count": 24,
   "metadata": {},
   "outputs": [
    {
     "name": "stdout",
     "output_type": "stream",
     "text": [
      "('Andy', {'type': 'employee'})\n",
      "('Anaconda', {'type': 'movie'})\n",
      "('Mean Girls', {'type': 'movie'})\n",
      "('The Matrix', {'type': 'movie'})\n",
      "('Claude', {'type': 'employee'})\n",
      "('Monty Python and the Holy Grail', {'type': 'movie'})\n",
      "('Snakes on a Plane', {'type': 'movie'})\n",
      "('Frida', {'type': 'employee'})\n",
      "('The Shawshank Redemption', {'type': 'movie'})\n",
      "('The Social Network', {'type': 'movie'})\n",
      "('Georgia', {'type': 'employee'})\n",
      "('Joan', {'type': 'employee'})\n",
      "('Forrest Gump', {'type': 'movie'})\n",
      "('Kung Fu Panda', {'type': 'movie'})\n",
      "('Lee', {'type': 'employee'})\n",
      "('Pablo', {'type': 'employee'})\n",
      "('The Dark Knight', {'type': 'movie'})\n",
      "('Vincent', {'type': 'employee'})\n",
      "('The Godfather', {'type': 'movie'})\n"
     ]
    }
   ],
   "source": [
    "def answer_two():\n",
    "    \n",
    "    G = answer_one()\n",
    "    for emp in employees:\n",
    "        G.node[emp]['type'] = 'employee'\n",
    "    for movie in movies:\n",
    "        G.node[movie]['type'] = 'movie'\n",
    "    \n",
    "    return G\n",
    "\n",
    "for node in answer_two().nodes(data=True):\n",
    "    print(node)"
   ]
  },
  {
   "cell_type": "markdown",
   "metadata": {
    "collapsed": true
   },
   "source": [
    "### Question 3\n",
    "\n",
    "Find a weighted projection of the graph from `answer_two` which tells us how many movies different pairs of employees have in common.\n",
    "\n",
    "*This function should return a weighted projected graph.*"
   ]
  },
  {
   "cell_type": "code",
   "execution_count": 25,
   "metadata": {},
   "outputs": [
    {
     "name": "stdout",
     "output_type": "stream",
     "text": [
      "('Andy', 'Claude', {'weight': 1})\n",
      "('Andy', 'Lee', {'weight': 1})\n",
      "('Andy', 'Joan', {'weight': 1})\n",
      "('Andy', 'Pablo', {'weight': 1})\n",
      "('Andy', 'Georgia', {'weight': 1})\n",
      "('Andy', 'Frida', {'weight': 1})\n",
      "('Claude', 'Georgia', {'weight': 3})\n",
      "('Lee', 'Joan', {'weight': 3})\n",
      "('Pablo', 'Vincent', {'weight': 1})\n",
      "('Pablo', 'Frida', {'weight': 2})\n",
      "('Vincent', 'Frida', {'weight': 2})\n"
     ]
    }
   ],
   "source": [
    "def answer_three():\n",
    "    G = answer_two()\n",
    "    return bipartite.weighted_projected_graph(G, employees)\n",
    "\n",
    "for edge in answer_three().edges(data=True):\n",
    "    print(edge)"
   ]
  },
  {
   "cell_type": "markdown",
   "metadata": {
    "collapsed": true
   },
   "source": [
    "### Question 4\n",
    "\n",
    "Suppose you'd like to find out if people that have a high relationship score also like the same types of movies.\n",
    "\n",
    "Find the Pearson correlation ( using `DataFrame.corr()` ) between employee relationship scores and the number of movies they have in common. If two employees have no movies in common it should be treated as a 0, not a missing value, and should be included in the correlation calculation.\n",
    "\n",
    "*This function should return a float.*"
   ]
  },
  {
   "cell_type": "code",
   "execution_count": 40,
   "metadata": {},
   "outputs": [
    {
     "data": {
      "text/html": [
       "<div>\n",
       "<style scoped>\n",
       "    .dataframe tbody tr th:only-of-type {\n",
       "        vertical-align: middle;\n",
       "    }\n",
       "\n",
       "    .dataframe tbody tr th {\n",
       "        vertical-align: top;\n",
       "    }\n",
       "\n",
       "    .dataframe thead th {\n",
       "        text-align: right;\n",
       "    }\n",
       "</style>\n",
       "<table border=\"1\" class=\"dataframe\">\n",
       "  <thead>\n",
       "    <tr style=\"text-align: right;\">\n",
       "      <th></th>\n",
       "      <th>relationship</th>\n",
       "      <th>common_movies</th>\n",
       "    </tr>\n",
       "  </thead>\n",
       "  <tbody>\n",
       "    <tr>\n",
       "      <th>relationship</th>\n",
       "      <td>1.000000</td>\n",
       "      <td>0.788396</td>\n",
       "    </tr>\n",
       "    <tr>\n",
       "      <th>common_movies</th>\n",
       "      <td>0.788396</td>\n",
       "      <td>1.000000</td>\n",
       "    </tr>\n",
       "  </tbody>\n",
       "</table>\n",
       "</div>"
      ],
      "text/plain": [
       "               relationship  common_movies\n",
       "relationship       1.000000       0.788396\n",
       "common_movies      0.788396       1.000000"
      ]
     },
     "execution_count": 40,
     "metadata": {},
     "output_type": "execute_result"
    }
   ],
   "source": [
    "def answer_four():\n",
    "    common_movies = answer_three()\n",
    "    relationships = nx.read_edgelist(\"Employee_Relationships.txt\", delimiter=\"\\t\", data=(('weight', float),))\n",
    "    \n",
    "    # I don't know a fancy way to pull out the weights and get them in a form I want.\n",
    "    # nx.to_pandas_adjacency() got me part of the way there, but it gave me a \n",
    "    # num_employees x num_employees dataframe, with zeros on the diagonal. I would have\n",
    "    # had a tough time figuring out how to mangle that into the form I need.\n",
    "    # So I took the simple approach here: just iterate through all the pairs\n",
    "    # of employees, get the weights from the two graphs, and put all of them into lists.\n",
    "    # Then use those lists to make a dataframe. It's not elegant, but it works.\n",
    "    relationship_data = []\n",
    "    movie_data = []\n",
    "    index = []\n",
    "    for person1, person2, relationship in relationships.edges(data=True):\n",
    "        index.append((person1, person2))\n",
    "        relationship_data.append(relationship['weight'])\n",
    "        movie_data.append(common_movies[person1][person2]['weight'] if common_movies.has_edge(person1, person2) else 0)\n",
    "    \n",
    "    df = pd.DataFrame({'relationship': relationship_data, 'common_movies': movie_data}, index=index)\n",
    "    \n",
    "    return df.corr()\n",
    "answer_four()"
   ]
  },
  {
   "cell_type": "code",
   "execution_count": null,
   "metadata": {},
   "outputs": [],
   "source": []
  }
 ],
 "metadata": {
  "coursera": {
   "course_slug": "python-social-network-analysis",
   "graded_item_id": "YNa9b",
   "launcher_item_id": "hvNc1",
   "part_id": "VbyiB"
  },
  "kernelspec": {
   "display_name": "Python 3",
   "language": "python",
   "name": "python3"
  },
  "language_info": {
   "codemirror_mode": {
    "name": "ipython",
    "version": 3
   },
   "file_extension": ".py",
   "mimetype": "text/x-python",
   "name": "python",
   "nbconvert_exporter": "python",
   "pygments_lexer": "ipython3",
   "version": "3.6.5"
  }
 },
 "nbformat": 4,
 "nbformat_minor": 2
}
