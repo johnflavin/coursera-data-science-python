{
 "cells": [
  {
   "cell_type": "markdown",
   "metadata": {},
   "source": [
    "---\n",
    "\n",
    "_You are currently looking at **version 1.1** of this notebook. To download notebooks and datafiles, as well as get help on Jupyter notebooks in the Coursera platform, visit the [Jupyter Notebook FAQ](https://www.coursera.org/learn/python-machine-learning/resources/bANLa) course resource._\n",
    "\n",
    "---"
   ]
  },
  {
   "cell_type": "markdown",
   "metadata": {},
   "source": [
    "## Assignment 4 - Understanding and Predicting Property Maintenance Fines\n",
    "\n",
    "This assignment is based on a data challenge from the Michigan Data Science Team ([MDST](http://midas.umich.edu/mdst/)). \n",
    "\n",
    "The Michigan Data Science Team ([MDST](http://midas.umich.edu/mdst/)) and the Michigan Student Symposium for Interdisciplinary Statistical Sciences ([MSSISS](https://sites.lsa.umich.edu/mssiss/)) have partnered with the City of Detroit to help solve one of the most pressing problems facing Detroit - blight. [Blight violations](http://www.detroitmi.gov/How-Do-I/Report/Blight-Complaint-FAQs) are issued by the city to individuals who allow their properties to remain in a deteriorated condition. Every year, the city of Detroit issues millions of dollars in fines to residents and every year, many of these fines remain unpaid. Enforcing unpaid blight fines is a costly and tedious process, so the city wants to know: how can we increase blight ticket compliance?\n",
    "\n",
    "The first step in answering this question is understanding when and why a resident might fail to comply with a blight ticket. This is where predictive modeling comes in. For this assignment, your task is to predict whether a given blight ticket will be paid on time.\n",
    "\n",
    "All data for this assignment has been provided to us through the [Detroit Open Data Portal](https://data.detroitmi.gov/). **Only the data already included in your Coursera directory can be used for training the model for this assignment.** Nonetheless, we encourage you to look into data from other Detroit datasets to help inform feature creation and model selection. We recommend taking a look at the following related datasets:\n",
    "\n",
    "* [Building Permits](https://data.detroitmi.gov/Property-Parcels/Building-Permits/xw2a-a7tf)\n",
    "* [Trades Permits](https://data.detroitmi.gov/Property-Parcels/Trades-Permits/635b-dsgv)\n",
    "* [Improve Detroit: Submitted Issues](https://data.detroitmi.gov/Government/Improve-Detroit-Submitted-Issues/fwz3-w3yn)\n",
    "* [DPD: Citizen Complaints](https://data.detroitmi.gov/Public-Safety/DPD-Citizen-Complaints-2016/kahe-efs3)\n",
    "* [Parcel Map](https://data.detroitmi.gov/Property-Parcels/Parcel-Map/fxkw-udwf)\n",
    "\n",
    "___\n",
    "\n",
    "We provide you with two data files for use in training and validating your models: train.csv and test.csv. Each row in these two files corresponds to a single blight ticket, and includes information about when, why, and to whom each ticket was issued. The target variable is compliance, which is True if the ticket was paid early, on time, or within one month of the hearing data, False if the ticket was paid after the hearing date or not at all, and Null if the violator was found not responsible. Compliance, as well as a handful of other variables that will not be available at test-time, are only included in train.csv.\n",
    "\n",
    "Note: All tickets where the violators were found not responsible are not considered during evaluation. They are included in the training set as an additional source of data for visualization, and to enable unsupervised and semi-supervised approaches. However, they are not included in the test set.\n",
    "\n",
    "<br>\n",
    "\n",
    "**File descriptions** (Use only this data for training your model!)\n",
    "\n",
    "    train.csv - the training set (all tickets issued 2004-2011)\n",
    "    test.csv - the test set (all tickets issued 2012-2016)\n",
    "    addresses.csv & latlons.csv - mapping from ticket id to addresses, and from addresses to lat/lon coordinates. \n",
    "     Note: misspelled addresses may be incorrectly geolocated.\n",
    "\n",
    "<br>\n",
    "\n",
    "**Data fields**\n",
    "\n",
    "train.csv & test.csv\n",
    "\n",
    "    ticket_id - unique identifier for tickets\n",
    "    agency_name - Agency that issued the ticket\n",
    "    inspector_name - Name of inspector that issued the ticket\n",
    "    violator_name - Name of the person/organization that the ticket was issued to\n",
    "    violation_street_number, violation_street_name, violation_zip_code - Address where the violation occurred\n",
    "    mailing_address_str_number, mailing_address_str_name, city, state, zip_code, non_us_str_code, country - Mailing address of the violator\n",
    "    ticket_issued_date - Date and time the ticket was issued\n",
    "    hearing_date - Date and time the violator's hearing was scheduled\n",
    "    violation_code, violation_description - Type of violation\n",
    "    disposition - Judgment and judgement type\n",
    "    fine_amount - Violation fine amount, excluding fees\n",
    "    admin_fee - $20 fee assigned to responsible judgments\n",
    "state_fee - $10 fee assigned to responsible judgments\n",
    "    late_fee - 10% fee assigned to responsible judgments\n",
    "    discount_amount - discount applied, if any\n",
    "    clean_up_cost - DPW clean-up or graffiti removal cost\n",
    "    judgment_amount - Sum of all fines and fees\n",
    "    grafitti_status - Flag for graffiti violations\n",
    "    \n",
    "train.csv only\n",
    "\n",
    "    payment_amount - Amount paid, if any\n",
    "    payment_date - Date payment was made, if it was received\n",
    "    payment_status - Current payment status as of Feb 1 2017\n",
    "    balance_due - Fines and fees still owed\n",
    "    collection_status - Flag for payments in collections\n",
    "    compliance [target variable for prediction] \n",
    "     Null = Not responsible\n",
    "     0 = Responsible, non-compliant\n",
    "     1 = Responsible, compliant\n",
    "    compliance_detail - More information on why each ticket was marked compliant or non-compliant\n",
    "\n",
    "\n",
    "___\n",
    "\n",
    "## Evaluation\n",
    "\n",
    "Your predictions will be given as the probability that the corresponding blight ticket will be paid on time.\n",
    "\n",
    "The evaluation metric for this assignment is the Area Under the ROC Curve (AUC). \n",
    "\n",
    "Your grade will be based on the AUC score computed for your classifier. A model which with an AUROC of 0.7 passes this assignment, over 0.75 will recieve full points.\n",
    "___\n",
    "\n",
    "For this assignment, create a function that trains a model to predict blight ticket compliance in Detroit using `train.csv`. Using this model, return a series of length 61001 with the data being the probability that each corresponding ticket from `test.csv` will be paid, and the index being the ticket_id.\n",
    "\n",
    "Example:\n",
    "\n",
    "    ticket_id\n",
    "       284932    0.531842\n",
    "       285362    0.401958\n",
    "       285361    0.105928\n",
    "       285338    0.018572\n",
    "                 ...\n",
    "       376499    0.208567\n",
    "       376500    0.818759\n",
    "       369851    0.018528\n",
    "       Name: compliance, dtype: float32\n",
    "       \n",
    "### Hints\n",
    "\n",
    "* Make sure your code is working before submitting it to the autograder.\n",
    "\n",
    "* Print out your result to see whether there is anything weird (e.g., all probabilities are the same).\n",
    "\n",
    "* Generally the total runtime should be less than 10 mins. You should NOT use Neural Network related classifiers (e.g., MLPClassifier) in this question. \n",
    "\n",
    "* Try to avoid global variables. If you have other functions besides blight_model, you should move those functions inside the scope of blight_model.\n",
    "\n",
    "* Refer to the pinned threads in Week 4's discussion forum when there is something you could not figure it out."
   ]
  },
  {
   "cell_type": "markdown",
   "metadata": {},
   "source": [
    "## My Stuff\n",
    "\n",
    "This is where I am going to poke around and play with the data before building the model for the answer."
   ]
  },
  {
   "cell_type": "code",
   "execution_count": 1,
   "metadata": {},
   "outputs": [],
   "source": [
    "%matplotlib inline\n",
    "import pandas as pd\n",
    "import numpy as np\n",
    "import seaborn as sb\n",
    "import matplotlib.pyplot as plt"
   ]
  },
  {
   "cell_type": "code",
   "execution_count": 2,
   "metadata": {},
   "outputs": [],
   "source": [
    "us_states  = ['AL','AK','AZ','AR','CA','CO','CT','DE','FL','GA','HI','ID','IL',\n",
    "             'IN','IA','KS','KY','LA','ME','MD','MA','MI','MN','MS','MO','MT',\n",
    "             'NE','NV','NH','NJ','NM','NY','NC','ND','OH','OK','OR','PA','RI',\n",
    "             'SC','SD','TN','TX','UT','VT','VA','WA','WV','WI','WY']\n",
    "disposition_replace = {\n",
    "    'Responsible by Default': 'By default',\n",
    "    'Responsible by Determination': 'By determination', \n",
    "    'Responsible (Fine Waived) by Deter': 'Fine Waived',\n",
    "    'Responsible by Admission': 'By admission',\n",
    "    'SET-ASIDE (PENDING JUDGMENT)': 'Pending',\n",
    "    'PENDING JUDGMENT': 'Pending',\n",
    "    'Not responsible by Dismissal': 'Not responsible',\n",
    "    'Not responsible by City Dismissal': 'Not responsible',\n",
    "    'Not responsible by Determination': 'Not responsible',\n",
    "    'Responsible (Fine Waived) by Admis': 'Fine Waived',\n",
    "    'Responsible - Compl/Adj by Default': 'By default',\n",
    "    'Responsible - Compl/Adj by Determi': 'By determination',\n",
    "    'Responsible by Dismissal': 'By default'\n",
    "}\n",
    "\n",
    "def clean(df):\n",
    "    # Collapse state data into in-state or out of state (or out of country)\n",
    "    df['in_state'] = df.state.apply(lambda x: 'yes' if x=='MI' else ('no' if x in us_states else 'foreign'))\n",
    "    \n",
    "    # Clean disposition values\n",
    "    df.disposition.replace(disposition_replace, inplace=True)\n",
    "    \n",
    "    # These columns just aren't useful to us\n",
    "    df.drop([\n",
    "        'violation_zip_code', \n",
    "        'non_us_str_code', \n",
    "        'grafitti_status', \n",
    "        'violator_name', \n",
    "        'violation_street_number', \n",
    "        'violation_street_name', \n",
    "        'violation_description',\n",
    "        'mailing_address_str_number', \n",
    "        'mailing_address_str_name',\n",
    "        'city',\n",
    "        'state',\n",
    "        'zip_code',\n",
    "        'country',\n",
    "        'clean_up_cost'\n",
    "    ], axis=1, inplace=True)\n",
    "    \n",
    "    # Date columns\n",
    "    df['ticket_issued_date'] = pd.to_datetime(df['ticket_issued_date'])\n",
    "    df['hearing_date'] = pd.to_datetime(df['hearing_date'])\n",
    "    df['hearing_date'].fillna((df.hearing_date - df.hearing_date.min()).mean() + df.hearing_date.min(), inplace=True)\n",
    "    df['ticket_issued_date'].fillna((df.ticket_issued_date - df.ticket_issued_date.min()).mean() + df.ticket_issued_date.min(), inplace=True)\n",
    "    df['date_gap'] = ((df['hearing_date'] - df['ticket_issued_date'])/np.timedelta64(1, 'D')).astype(int)\n",
    "    \n",
    "    # Set index\n",
    "    df.set_index('ticket_id', inplace=True)\n",
    "    \n",
    "    return df"
   ]
  },
  {
   "cell_type": "code",
   "execution_count": 3,
   "metadata": {},
   "outputs": [
    {
     "name": "stdout",
     "output_type": "stream",
     "text": [
      "<class 'pandas.core.frame.DataFrame'>\n",
      "Int64Index: 3013 entries, 22056 to 22302\n",
      "Data columns (total 21 columns):\n",
      "agency_name           3013 non-null object\n",
      "inspector_name        3013 non-null object\n",
      "ticket_issued_date    3013 non-null datetime64[ns]\n",
      "hearing_date          3013 non-null datetime64[ns]\n",
      "violation_code        3013 non-null object\n",
      "disposition           3013 non-null object\n",
      "fine_amount           3013 non-null float64\n",
      "admin_fee             3013 non-null float64\n",
      "state_fee             3013 non-null float64\n",
      "late_fee              3013 non-null float64\n",
      "discount_amount       3013 non-null float64\n",
      "judgment_amount       3013 non-null float64\n",
      "payment_amount        3013 non-null float64\n",
      "balance_due           3013 non-null float64\n",
      "payment_date          1163 non-null object\n",
      "payment_status        3013 non-null object\n",
      "collection_status     629 non-null object\n",
      "compliance_detail     3013 non-null object\n",
      "compliance            3013 non-null category\n",
      "in_state              3013 non-null object\n",
      "date_gap              3013 non-null int64\n",
      "dtypes: category(1), datetime64[ns](2), float64(8), int64(1), object(9)\n",
      "memory usage: 497.4+ KB\n"
     ]
    }
   ],
   "source": [
    "df = clean(pd.read_csv('train.csv'))\n",
    "\n",
    "# These rows aren't useful\n",
    "df.dropna(subset=['compliance'], inplace=True)\n",
    "    \n",
    "# Categorical data\n",
    "df.compliance = df.compliance.astype(\"category\")\n",
    "\n",
    "df.info()"
   ]
  },
  {
   "cell_type": "code",
   "execution_count": 4,
   "metadata": {},
   "outputs": [
    {
     "data": {
      "text/html": [
       "<div>\n",
       "<style scoped>\n",
       "    .dataframe tbody tr th:only-of-type {\n",
       "        vertical-align: middle;\n",
       "    }\n",
       "\n",
       "    .dataframe tbody tr th {\n",
       "        vertical-align: top;\n",
       "    }\n",
       "\n",
       "    .dataframe thead th {\n",
       "        text-align: right;\n",
       "    }\n",
       "</style>\n",
       "<table border=\"1\" class=\"dataframe\">\n",
       "  <thead>\n",
       "    <tr style=\"text-align: right;\">\n",
       "      <th></th>\n",
       "      <th>agency_name</th>\n",
       "      <th>inspector_name</th>\n",
       "      <th>ticket_issued_date</th>\n",
       "      <th>hearing_date</th>\n",
       "      <th>violation_code</th>\n",
       "      <th>disposition</th>\n",
       "      <th>fine_amount</th>\n",
       "      <th>admin_fee</th>\n",
       "      <th>state_fee</th>\n",
       "      <th>late_fee</th>\n",
       "      <th>...</th>\n",
       "      <th>judgment_amount</th>\n",
       "      <th>payment_amount</th>\n",
       "      <th>balance_due</th>\n",
       "      <th>payment_date</th>\n",
       "      <th>payment_status</th>\n",
       "      <th>collection_status</th>\n",
       "      <th>compliance_detail</th>\n",
       "      <th>compliance</th>\n",
       "      <th>in_state</th>\n",
       "      <th>date_gap</th>\n",
       "    </tr>\n",
       "    <tr>\n",
       "      <th>ticket_id</th>\n",
       "      <th></th>\n",
       "      <th></th>\n",
       "      <th></th>\n",
       "      <th></th>\n",
       "      <th></th>\n",
       "      <th></th>\n",
       "      <th></th>\n",
       "      <th></th>\n",
       "      <th></th>\n",
       "      <th></th>\n",
       "      <th></th>\n",
       "      <th></th>\n",
       "      <th></th>\n",
       "      <th></th>\n",
       "      <th></th>\n",
       "      <th></th>\n",
       "      <th></th>\n",
       "      <th></th>\n",
       "      <th></th>\n",
       "      <th></th>\n",
       "      <th></th>\n",
       "    </tr>\n",
       "  </thead>\n",
       "  <tbody>\n",
       "    <tr>\n",
       "      <th>22056</th>\n",
       "      <td>Buildings, Safety Engineering &amp; Env Department</td>\n",
       "      <td>Sims, Martinzie</td>\n",
       "      <td>2004-03-16 11:40:00</td>\n",
       "      <td>2005-03-21 10:30:00</td>\n",
       "      <td>9-1-36(a)</td>\n",
       "      <td>By default</td>\n",
       "      <td>250.0</td>\n",
       "      <td>20.0</td>\n",
       "      <td>10.0</td>\n",
       "      <td>25.0</td>\n",
       "      <td>...</td>\n",
       "      <td>305.0</td>\n",
       "      <td>0.0</td>\n",
       "      <td>305.0</td>\n",
       "      <td>NaN</td>\n",
       "      <td>NO PAYMENT APPLIED</td>\n",
       "      <td>NaN</td>\n",
       "      <td>non-compliant by no payment</td>\n",
       "      <td>0.0</td>\n",
       "      <td>no</td>\n",
       "      <td>369</td>\n",
       "    </tr>\n",
       "    <tr>\n",
       "      <th>27586</th>\n",
       "      <td>Buildings, Safety Engineering &amp; Env Department</td>\n",
       "      <td>Williams, Darrin</td>\n",
       "      <td>2004-04-23 12:30:00</td>\n",
       "      <td>2005-05-06 13:30:00</td>\n",
       "      <td>61-63.0600</td>\n",
       "      <td>By determination</td>\n",
       "      <td>750.0</td>\n",
       "      <td>20.0</td>\n",
       "      <td>10.0</td>\n",
       "      <td>75.0</td>\n",
       "      <td>...</td>\n",
       "      <td>855.0</td>\n",
       "      <td>780.0</td>\n",
       "      <td>75.0</td>\n",
       "      <td>2005-06-02 00:00:00</td>\n",
       "      <td>PAID IN FULL</td>\n",
       "      <td>NaN</td>\n",
       "      <td>compliant by late payment within 1 month</td>\n",
       "      <td>1.0</td>\n",
       "      <td>yes</td>\n",
       "      <td>378</td>\n",
       "    </tr>\n",
       "    <tr>\n",
       "      <th>22046</th>\n",
       "      <td>Buildings, Safety Engineering &amp; Env Department</td>\n",
       "      <td>Sims, Martinzie</td>\n",
       "      <td>2004-05-01 11:50:00</td>\n",
       "      <td>2005-03-21 10:30:00</td>\n",
       "      <td>9-1-36(a)</td>\n",
       "      <td>By default</td>\n",
       "      <td>250.0</td>\n",
       "      <td>20.0</td>\n",
       "      <td>10.0</td>\n",
       "      <td>25.0</td>\n",
       "      <td>...</td>\n",
       "      <td>305.0</td>\n",
       "      <td>0.0</td>\n",
       "      <td>305.0</td>\n",
       "      <td>NaN</td>\n",
       "      <td>NO PAYMENT APPLIED</td>\n",
       "      <td>NaN</td>\n",
       "      <td>non-compliant by no payment</td>\n",
       "      <td>0.0</td>\n",
       "      <td>no</td>\n",
       "      <td>323</td>\n",
       "    </tr>\n",
       "    <tr>\n",
       "      <th>18738</th>\n",
       "      <td>Buildings, Safety Engineering &amp; Env Department</td>\n",
       "      <td>Williams, Darrin</td>\n",
       "      <td>2004-06-14 14:15:00</td>\n",
       "      <td>2005-02-22 15:00:00</td>\n",
       "      <td>61-63.0500</td>\n",
       "      <td>By default</td>\n",
       "      <td>750.0</td>\n",
       "      <td>20.0</td>\n",
       "      <td>10.0</td>\n",
       "      <td>75.0</td>\n",
       "      <td>...</td>\n",
       "      <td>855.0</td>\n",
       "      <td>0.0</td>\n",
       "      <td>855.0</td>\n",
       "      <td>NaN</td>\n",
       "      <td>NO PAYMENT APPLIED</td>\n",
       "      <td>NaN</td>\n",
       "      <td>non-compliant by no payment</td>\n",
       "      <td>0.0</td>\n",
       "      <td>yes</td>\n",
       "      <td>253</td>\n",
       "    </tr>\n",
       "    <tr>\n",
       "      <th>18735</th>\n",
       "      <td>Buildings, Safety Engineering &amp; Env Department</td>\n",
       "      <td>Williams, Darrin</td>\n",
       "      <td>2004-06-16 12:30:00</td>\n",
       "      <td>2005-02-22 15:00:00</td>\n",
       "      <td>61-63.0100</td>\n",
       "      <td>By default</td>\n",
       "      <td>100.0</td>\n",
       "      <td>20.0</td>\n",
       "      <td>10.0</td>\n",
       "      <td>10.0</td>\n",
       "      <td>...</td>\n",
       "      <td>140.0</td>\n",
       "      <td>0.0</td>\n",
       "      <td>140.0</td>\n",
       "      <td>NaN</td>\n",
       "      <td>NO PAYMENT APPLIED</td>\n",
       "      <td>NaN</td>\n",
       "      <td>non-compliant by no payment</td>\n",
       "      <td>0.0</td>\n",
       "      <td>yes</td>\n",
       "      <td>251</td>\n",
       "    </tr>\n",
       "  </tbody>\n",
       "</table>\n",
       "<p>5 rows × 21 columns</p>\n",
       "</div>"
      ],
      "text/plain": [
       "                                              agency_name    inspector_name  \\\n",
       "ticket_id                                                                     \n",
       "22056      Buildings, Safety Engineering & Env Department   Sims, Martinzie   \n",
       "27586      Buildings, Safety Engineering & Env Department  Williams, Darrin   \n",
       "22046      Buildings, Safety Engineering & Env Department   Sims, Martinzie   \n",
       "18738      Buildings, Safety Engineering & Env Department  Williams, Darrin   \n",
       "18735      Buildings, Safety Engineering & Env Department  Williams, Darrin   \n",
       "\n",
       "           ticket_issued_date        hearing_date violation_code  \\\n",
       "ticket_id                                                          \n",
       "22056     2004-03-16 11:40:00 2005-03-21 10:30:00      9-1-36(a)   \n",
       "27586     2004-04-23 12:30:00 2005-05-06 13:30:00     61-63.0600   \n",
       "22046     2004-05-01 11:50:00 2005-03-21 10:30:00      9-1-36(a)   \n",
       "18738     2004-06-14 14:15:00 2005-02-22 15:00:00     61-63.0500   \n",
       "18735     2004-06-16 12:30:00 2005-02-22 15:00:00     61-63.0100   \n",
       "\n",
       "                disposition  fine_amount  admin_fee  state_fee  late_fee  \\\n",
       "ticket_id                                                                  \n",
       "22056            By default        250.0       20.0       10.0      25.0   \n",
       "27586      By determination        750.0       20.0       10.0      75.0   \n",
       "22046            By default        250.0       20.0       10.0      25.0   \n",
       "18738            By default        750.0       20.0       10.0      75.0   \n",
       "18735            By default        100.0       20.0       10.0      10.0   \n",
       "\n",
       "            ...     judgment_amount  payment_amount  balance_due  \\\n",
       "ticket_id   ...                                                    \n",
       "22056       ...               305.0             0.0        305.0   \n",
       "27586       ...               855.0           780.0         75.0   \n",
       "22046       ...               305.0             0.0        305.0   \n",
       "18738       ...               855.0             0.0        855.0   \n",
       "18735       ...               140.0             0.0        140.0   \n",
       "\n",
       "                  payment_date      payment_status collection_status  \\\n",
       "ticket_id                                                              \n",
       "22056                      NaN  NO PAYMENT APPLIED               NaN   \n",
       "27586      2005-06-02 00:00:00        PAID IN FULL               NaN   \n",
       "22046                      NaN  NO PAYMENT APPLIED               NaN   \n",
       "18738                      NaN  NO PAYMENT APPLIED               NaN   \n",
       "18735                      NaN  NO PAYMENT APPLIED               NaN   \n",
       "\n",
       "                                  compliance_detail compliance in_state  \\\n",
       "ticket_id                                                                 \n",
       "22056                   non-compliant by no payment        0.0       no   \n",
       "27586      compliant by late payment within 1 month        1.0      yes   \n",
       "22046                   non-compliant by no payment        0.0       no   \n",
       "18738                   non-compliant by no payment        0.0      yes   \n",
       "18735                   non-compliant by no payment        0.0      yes   \n",
       "\n",
       "          date_gap  \n",
       "ticket_id           \n",
       "22056          369  \n",
       "27586          378  \n",
       "22046          323  \n",
       "18738          253  \n",
       "18735          251  \n",
       "\n",
       "[5 rows x 21 columns]"
      ]
     },
     "execution_count": 4,
     "metadata": {},
     "output_type": "execute_result"
    }
   ],
   "source": [
    "df.head()"
   ]
  },
  {
   "cell_type": "code",
   "execution_count": 5,
   "metadata": {
    "scrolled": true
   },
   "outputs": [
    {
     "data": {
      "text/plain": [
       "0.9058355437665783"
      ]
     },
     "execution_count": 5,
     "metadata": {},
     "output_type": "execute_result"
    }
   ],
   "source": [
    "from sklearn.naive_bayes import GaussianNB\n",
    "from sklearn.model_selection import train_test_split\n",
    "\n",
    "gnb = GaussianNB()\n",
    "\n",
    "fine_cols_subset = [\n",
    "    'fine_amount', \n",
    "    'late_fee',\n",
    "    'discount_amount'\n",
    "]\n",
    "\n",
    "X_train, X_test, y_train, y_test = train_test_split(df[fine_cols_subset], df['compliance'])\n",
    "gnb.fit(X_train, y_train)\n",
    "gnb.score(X_test, y_test)"
   ]
  },
  {
   "cell_type": "markdown",
   "metadata": {},
   "source": [
    "That score looks good enough to me! I have to use the AUC scoring function, though, not just accuracy."
   ]
  },
  {
   "cell_type": "code",
   "execution_count": 6,
   "metadata": {},
   "outputs": [
    {
     "data": {
      "text/plain": [
       "0.5069444444444444"
      ]
     },
     "execution_count": 6,
     "metadata": {},
     "output_type": "execute_result"
    }
   ],
   "source": [
    "from sklearn.metrics import roc_auc_score\n",
    "roc_auc_score(y_test, gnb.predict(X_test))"
   ]
  },
  {
   "cell_type": "markdown",
   "metadata": {},
   "source": [
    "Oh, hmm. That's bad actually. Let's see that confusion matrix."
   ]
  },
  {
   "cell_type": "code",
   "execution_count": 7,
   "metadata": {},
   "outputs": [
    {
     "data": {
      "text/plain": [
       "array([[682,   0],\n",
       "       [ 71,   1]])"
      ]
     },
     "execution_count": 7,
     "metadata": {},
     "output_type": "execute_result"
    }
   ],
   "source": [
    "from sklearn.metrics import confusion_matrix\n",
    "confusion_matrix(y_test, gnb.predict(X_test))"
   ]
  },
  {
   "cell_type": "markdown",
   "metadata": {},
   "source": [
    "Looks like we are predicting a lot less compliance than there are.\n",
    "\n",
    "Maybe a support vector machine could be better at this?"
   ]
  },
  {
   "cell_type": "code",
   "execution_count": 8,
   "metadata": {},
   "outputs": [
    {
     "data": {
      "text/plain": [
       "0.5069444444444444"
      ]
     },
     "execution_count": 8,
     "metadata": {},
     "output_type": "execute_result"
    }
   ],
   "source": [
    "from sklearn.svm import SVC\n",
    "svc = SVC().fit(X_train, y_train)\n",
    "roc_auc_score(y_test, svc.predict(X_test))"
   ]
  },
  {
   "cell_type": "markdown",
   "metadata": {},
   "source": [
    "Also bad. Wow."
   ]
  },
  {
   "cell_type": "code",
   "execution_count": 9,
   "metadata": {},
   "outputs": [
    {
     "data": {
      "text/plain": [
       "array([[682,   0],\n",
       "       [ 71,   1]])"
      ]
     },
     "execution_count": 9,
     "metadata": {},
     "output_type": "execute_result"
    }
   ],
   "source": [
    "confusion_matrix(y_test, svc.predict(X_test))"
   ]
  },
  {
   "cell_type": "code",
   "execution_count": 10,
   "metadata": {},
   "outputs": [
    {
     "data": {
      "text/plain": [
       "0.5069444444444444"
      ]
     },
     "execution_count": 10,
     "metadata": {},
     "output_type": "execute_result"
    }
   ],
   "source": [
    "from sklearn.ensemble import RandomForestClassifier\n",
    "rf = RandomForestClassifier(n_estimators=50).fit(X_train, y_train)\n",
    "roc_auc_score(y_test, rf.predict(X_test))"
   ]
  },
  {
   "cell_type": "code",
   "execution_count": 11,
   "metadata": {},
   "outputs": [
    {
     "data": {
      "text/plain": [
       "0.5069444444444444"
      ]
     },
     "execution_count": 11,
     "metadata": {},
     "output_type": "execute_result"
    }
   ],
   "source": [
    "from sklearn.linear_model import LogisticRegression\n",
    "lr = LogisticRegression().fit(X_train, y_train)\n",
    "roc_auc_score(y_test, lr.predict(X_test))"
   ]
  },
  {
   "cell_type": "markdown",
   "metadata": {},
   "source": [
    "Maybe I should be using the addresses. I didn't think I should use them because I... I don't know why. I'll just use them.\n",
    "\n",
    "*Later edit* They didn't really help, so I continued to not use them."
   ]
  },
  {
   "cell_type": "code",
   "execution_count": 12,
   "metadata": {},
   "outputs": [],
   "source": [
    "# addrlatlon = pd.merge(pd.read_csv('addresses.csv'), pd.read_csv('latlons.csv'), on='address')\n",
    "# train_df_new = (pd.merge(train_df, addrlatlon, on='ticket_id')\n",
    "#                 .set_index('ticket_id')\n",
    "#                 .drop(['violation_street_number', 'violation_street_name', 'address'], axis=1))\n",
    "# train_df_new.head()"
   ]
  },
  {
   "cell_type": "code",
   "execution_count": 13,
   "metadata": {},
   "outputs": [],
   "source": [
    "# new_cols = fine_cols_subset + ['lat', 'lon']\n",
    "# new_df_to_train = train_df_new[new_cols + ['compliance']]\n",
    "# X_train, X_test, y_train, y_test = train_test_split(new_df_to_train[new_cols], new_df_to_train['compliance'])\n",
    "# new_model = GaussianNB().fit(X_train, y_train)\n",
    "# roc_auc_score(y_test, new_model.predict(X_test))"
   ]
  },
  {
   "cell_type": "markdown",
   "metadata": {},
   "source": [
    "Ok, it got worse. This is not great.\n",
    "\n",
    "What am I even comparing to. 50% ROC AUC seems pretty bad. What do I get as a baseline of guessing all non-compliance?"
   ]
  },
  {
   "cell_type": "code",
   "execution_count": 14,
   "metadata": {},
   "outputs": [
    {
     "data": {
      "text/plain": [
       "0.5"
      ]
     },
     "execution_count": 14,
     "metadata": {},
     "output_type": "execute_result"
    }
   ],
   "source": [
    "from sklearn.dummy import DummyClassifier\n",
    "dummy = DummyClassifier(strategy='most_frequent').fit(X_train, y_train)\n",
    "roc_auc_score(y_test, dummy.predict(X_test))"
   ]
  },
  {
   "cell_type": "code",
   "execution_count": 15,
   "metadata": {},
   "outputs": [
    {
     "data": {
      "text/plain": [
       "array([[682,   0],\n",
       "       [ 72,   0]])"
      ]
     },
     "execution_count": 15,
     "metadata": {},
     "output_type": "execute_result"
    }
   ],
   "source": [
    "confusion_matrix(y_test, dummy.predict(X_test))"
   ]
  },
  {
   "cell_type": "markdown",
   "metadata": {},
   "source": [
    "So 50% is the absolute minimum performance. And all my models so far have been barely above that.\n",
    "\n",
    "I think it is time to engineer some features, and/or turn these numerical features into categories.\n",
    "\n",
    "Taking inspiration from https://www.kaggle.com/kylingu/apply-machine-learning-module-4-assignment"
   ]
  },
  {
   "cell_type": "code",
   "execution_count": 16,
   "metadata": {},
   "outputs": [],
   "source": [
    "def make_features(df):\n",
    "    dummy = pd.get_dummies(df[['in_state', 'disposition', 'agency_name']])\n",
    "\n",
    "    # Make sure all the categorical columns got created, even if they're blank\n",
    "    # This ensures training and test data have the same columns\n",
    "    for cat_col in ['in_state_yes', 'in_state_no', 'in_state_foreign',\n",
    "                    'disposition_By admission', 'disposition_By default', 'disposition_By determination', 'disposition_Fine Waived',\n",
    "                    'agency_name_Buildings, Safety Engineering & Env Department',\n",
    "                    'agency_name_Department of Public Works',\n",
    "                    'agency_name_Detroit Police Department',\n",
    "                    'agency_name_Health Department'\n",
    "                   ]:\n",
    "        if not cat_col in dummy.columns:\n",
    "            dummy[cat_col] = 0\n",
    "\n",
    "    return pd.concat(\n",
    "        (df[['discount_amount', 'judgment_amount', 'date_gap']], \n",
    "         dummy), \n",
    "        axis=1)"
   ]
  },
  {
   "cell_type": "code",
   "execution_count": 17,
   "metadata": {},
   "outputs": [
    {
     "name": "stdout",
     "output_type": "stream",
     "text": [
      "<class 'pandas.core.frame.DataFrame'>\n",
      "Int64Index: 3013 entries, 22056 to 22302\n",
      "Data columns (total 14 columns):\n",
      "discount_amount                                               3013 non-null float64\n",
      "judgment_amount                                               3013 non-null float64\n",
      "date_gap                                                      3013 non-null int64\n",
      "in_state_no                                                   3013 non-null uint8\n",
      "in_state_yes                                                  3013 non-null uint8\n",
      "disposition_By admission                                      3013 non-null uint8\n",
      "disposition_By default                                        3013 non-null uint8\n",
      "disposition_By determination                                  3013 non-null uint8\n",
      "agency_name_Buildings, Safety Engineering & Env Department    3013 non-null uint8\n",
      "agency_name_Department of Public Works                        3013 non-null uint8\n",
      "agency_name_Detroit Police Department                         3013 non-null uint8\n",
      "agency_name_Health Department                                 3013 non-null uint8\n",
      "in_state_foreign                                              3013 non-null int64\n",
      "disposition_Fine Waived                                       3013 non-null int64\n",
      "dtypes: float64(2), int64(3), uint8(9)\n",
      "memory usage: 167.7 KB\n"
     ]
    }
   ],
   "source": [
    "y_train = df['compliance']\n",
    "X_train = make_features(df)\n",
    "X_train.info()"
   ]
  },
  {
   "cell_type": "code",
   "execution_count": 18,
   "metadata": {},
   "outputs": [
    {
     "name": "stdout",
     "output_type": "stream",
     "text": [
      "Best score: 0.6282218174735147\n",
      "Best params: {'n_estimators': 100}\n"
     ]
    }
   ],
   "source": [
    "from sklearn.ensemble import RandomForestClassifier\n",
    "from sklearn.model_selection import GridSearchCV\n",
    "\n",
    "rf = RandomForestClassifier()\n",
    "gs = GridSearchCV(rf, {'n_estimators': range(70, 150, 3)}, scoring='roc_auc', cv=5).fit(X_train, y_train)\n",
    "# gs = GridSearchCV(rf, {'n_estimators': range(1, 50, 3)}, scoring='roc_auc', cv=5).fit(features_df, train_df['compliance'])\n",
    "\n",
    "print(\"Best score: {}\".format(gs.best_score_))\n",
    "print(\"Best params: {}\".format(gs.best_params_))"
   ]
  },
  {
   "cell_type": "code",
   "execution_count": 19,
   "metadata": {},
   "outputs": [
    {
     "name": "stdout",
     "output_type": "stream",
     "text": [
      "Best score: 0.7097359048857025\n",
      "Best params: {'learning_rate': 0.1, 'max_depth': 3}\n"
     ]
    }
   ],
   "source": [
    "from sklearn.ensemble import GradientBoostingClassifier\n",
    "\n",
    "gbc = GradientBoostingClassifier()\n",
    "gs = (GridSearchCV(gbc, \n",
    "                   {'learning_rate': [0.005, 0.1, 0.3, 1],\n",
    "                    'max_depth':[2, 3, 5]}, \n",
    "                   scoring='roc_auc', \n",
    "                   cv=5)\n",
    "      .fit(X_train, y_train))\n",
    "#       .fit(features_df, train_df['compliance']))\n",
    "\n",
    "print(\"Best score: {}\".format(gs.best_score_))\n",
    "print(\"Best params: {}\".format(gs.best_params_))"
   ]
  },
  {
   "cell_type": "markdown",
   "metadata": {},
   "source": [
    "That's over the 70% threshold I need to get for the test set. ...but it's with the training set, and I suspect the score will be worse for the test set."
   ]
  },
  {
   "cell_type": "code",
   "execution_count": 20,
   "metadata": {},
   "outputs": [
    {
     "name": "stdout",
     "output_type": "stream",
     "text": [
      "<class 'pandas.core.frame.DataFrame'>\n",
      "Int64Index: 61001 entries, 284932 to 369851\n",
      "Data columns (total 14 columns):\n",
      "discount_amount                                               61001 non-null float64\n",
      "judgment_amount                                               61001 non-null float64\n",
      "date_gap                                                      61001 non-null int64\n",
      "in_state_foreign                                              61001 non-null uint8\n",
      "in_state_no                                                   61001 non-null uint8\n",
      "in_state_yes                                                  61001 non-null uint8\n",
      "disposition_By admission                                      61001 non-null uint8\n",
      "disposition_By default                                        61001 non-null uint8\n",
      "disposition_By determination                                  61001 non-null uint8\n",
      "disposition_Fine Waived                                       61001 non-null uint8\n",
      "agency_name_Buildings, Safety Engineering & Env Department    61001 non-null uint8\n",
      "agency_name_Department of Public Works                        61001 non-null uint8\n",
      "agency_name_Detroit Police Department                         61001 non-null uint8\n",
      "agency_name_Health Department                                 61001 non-null int64\n",
      "dtypes: float64(2), int64(2), uint8(10)\n",
      "memory usage: 2.9 MB\n"
     ]
    }
   ],
   "source": [
    "X_test = make_features(clean(pd.read_csv('test.csv')))\n",
    "\n",
    "X_test.info()"
   ]
  },
  {
   "cell_type": "code",
   "execution_count": 21,
   "metadata": {},
   "outputs": [
    {
     "data": {
      "text/plain": [
       "ticket_id\n",
       "284932    0.698134\n",
       "285362    0.548315\n",
       "285361    0.756617\n",
       "285338    0.846667\n",
       "285346    0.560397\n",
       "285345    0.644350\n",
       "285347    0.936386\n",
       "285342    0.965349\n",
       "285530    0.176781\n",
       "284989    0.313517\n",
       "285344    0.936386\n",
       "285343    0.548315\n",
       "285340    0.548315\n",
       "285341    0.936386\n",
       "285349    0.289185\n",
       "285348    0.401311\n",
       "284991    0.313517\n",
       "285532    0.366832\n",
       "285406    0.459083\n",
       "285001    0.528260\n",
       "285006    0.285294\n",
       "285405    0.508486\n",
       "285337    0.687929\n",
       "285496    0.931806\n",
       "285497    0.846667\n",
       "285378    0.327270\n",
       "285589    0.407686\n",
       "285585    0.650391\n",
       "285501    0.756617\n",
       "285581    0.836061\n",
       "            ...   \n",
       "376367    0.574087\n",
       "376366    0.579980\n",
       "376362    0.681730\n",
       "376363    0.839088\n",
       "376365    0.574087\n",
       "376364    0.579980\n",
       "376228    0.484021\n",
       "376265    0.484021\n",
       "376286    0.859793\n",
       "376320    0.812271\n",
       "376314    0.812271\n",
       "376327    0.923484\n",
       "376385    0.953665\n",
       "376435    0.808541\n",
       "376370    0.882576\n",
       "376434    0.855808\n",
       "376459    0.817031\n",
       "376478    0.418009\n",
       "376473    0.703020\n",
       "376484    0.586257\n",
       "376482    0.718740\n",
       "376480    0.718740\n",
       "376479    0.718740\n",
       "376481    0.718740\n",
       "376483    0.718740\n",
       "376496    0.445010\n",
       "376497    0.445010\n",
       "376499    0.894197\n",
       "376500    0.894197\n",
       "369851    0.581888\n",
       "Name: compliance, Length: 61001, dtype: float64"
      ]
     },
     "execution_count": 21,
     "metadata": {},
     "output_type": "execute_result"
    }
   ],
   "source": [
    "X_test['compliance'] = gs.predict_proba(X_test)[:, 0]\n",
    "X_test['compliance']"
   ]
  },
  {
   "cell_type": "markdown",
   "metadata": {},
   "source": [
    "All right. That's what I need to return from my function. I can't submit it, since I didn't pay for the class. That means I don't have the actual compliance for the test data and I won't know what the actual score is. But I gave it my best. I meaningfully improved the score through feature engineering. So... good I guess?"
   ]
  },
  {
   "cell_type": "markdown",
   "metadata": {},
   "source": [
    "## Actual code for submission"
   ]
  },
  {
   "cell_type": "code",
   "execution_count": 22,
   "metadata": {},
   "outputs": [],
   "source": [
    "def blight_model():\n",
    "    import pandas as pd\n",
    "    import numpy as np\n",
    "    \n",
    "    us_states  = ['AL','AK','AZ','AR','CA','CO','CT','DE','FL','GA','HI','ID','IL',\n",
    "                 'IN','IA','KS','KY','LA','ME','MD','MA','MI','MN','MS','MO','MT',\n",
    "                 'NE','NV','NH','NJ','NM','NY','NC','ND','OH','OK','OR','PA','RI',\n",
    "                 'SC','SD','TN','TX','UT','VT','VA','WA','WV','WI','WY']\n",
    "    disposition_replace = {\n",
    "        'Responsible by Default': 'By default',\n",
    "        'Responsible by Determination': 'By determination', \n",
    "        'Responsible (Fine Waived) by Deter': 'Fine Waived',\n",
    "        'Responsible by Admission': 'By admission',\n",
    "        'SET-ASIDE (PENDING JUDGMENT)': 'Pending',\n",
    "        'PENDING JUDGMENT': 'Pending',\n",
    "        'Not responsible by Dismissal': 'Not responsible',\n",
    "        'Not responsible by City Dismissal': 'Not responsible',\n",
    "        'Not responsible by Determination': 'Not responsible',\n",
    "        'Responsible (Fine Waived) by Admis': 'Fine Waived',\n",
    "        'Responsible - Compl/Adj by Default': 'By default',\n",
    "        'Responsible - Compl/Adj by Determi': 'By determination',\n",
    "        'Responsible by Dismissal': 'By default'\n",
    "    }\n",
    "\n",
    "    def clean(df):\n",
    "        # Collapse state data into in-state or out of state (or out of country)\n",
    "        df['in_state'] = df.state.apply(lambda x: 'yes' if x=='MI' else ('no' if x in us_states else 'foreign'))\n",
    "\n",
    "        # Clean disposition values\n",
    "        df.disposition.replace(disposition_replace, inplace=True)\n",
    "\n",
    "        # These columns just aren't useful to us\n",
    "        df.drop([\n",
    "            'violation_zip_code', \n",
    "            'non_us_str_code', \n",
    "            'grafitti_status', \n",
    "            'violator_name', \n",
    "            'violation_street_number', \n",
    "            'violation_street_name', \n",
    "            'violation_description',\n",
    "            'mailing_address_str_number', \n",
    "            'mailing_address_str_name',\n",
    "            'city',\n",
    "            'state',\n",
    "            'zip_code',\n",
    "            'country',\n",
    "            'clean_up_cost'\n",
    "        ], axis=1, inplace=True)\n",
    "\n",
    "        # Date columns\n",
    "        df['ticket_issued_date'] = pd.to_datetime(df['ticket_issued_date'])\n",
    "        df['hearing_date'] = pd.to_datetime(df['hearing_date'])\n",
    "        df['hearing_date'].fillna((df.hearing_date - df.hearing_date.min()).mean() + df.hearing_date.min(), inplace=True)\n",
    "        df['ticket_issued_date'].fillna((df.ticket_issued_date - df.ticket_issued_date.min()).mean() + df.ticket_issued_date.min(), inplace=True)\n",
    "        df['date_gap'] = ((df['hearing_date'] - df['ticket_issued_date'])/np.timedelta64(1, 'D')).astype(int)\n",
    "\n",
    "        # Set index\n",
    "        df.set_index('ticket_id', inplace=True)\n",
    "\n",
    "        return df\n",
    "    \n",
    "    def make_features(df):\n",
    "        dummy = pd.get_dummies(df[['in_state', 'disposition', 'agency_name']])\n",
    "\n",
    "        # Make sure all the categorical columns got created, even if they're blank\n",
    "        # This ensures training and test data have the same columns\n",
    "        for cat_col in ['in_state_yes', 'in_state_no', 'in_state_foreign',\n",
    "                        'disposition_By admission', 'disposition_By default', 'disposition_By determination', 'disposition_Fine Waived',\n",
    "                        'agency_name_Buildings, Safety Engineering & Env Department',\n",
    "                        'agency_name_Department of Public Works',\n",
    "                        'agency_name_Detroit Police Department',\n",
    "                        'agency_name_Health Department'\n",
    "                       ]:\n",
    "            if not cat_col in dummy.columns:\n",
    "                dummy[cat_col] = 0\n",
    "\n",
    "        return pd.concat(\n",
    "            (df[['discount_amount', 'judgment_amount', 'date_gap']], \n",
    "             dummy), \n",
    "            axis=1)\n",
    "    \n",
    "    df = clean(pd.read_csv('train.csv'))\n",
    "    df.dropna(subset=['compliance'], inplace=True)\n",
    "    df.compliance = df.compliance.astype(\"category\")\n",
    "    y_train = df['compliance']\n",
    "    X_train = make_features(df)\n",
    "    \n",
    "    gbc = GradientBoostingClassifier(learning_rate=0.1, max_depth=3).fit(X_train, y_train)\n",
    "    \n",
    "    X_test = make_features(clean(pd.read_csv('test.csv')))\n",
    "    X_test['compliance'] = gs.predict_proba(X_test)[:, 0].astype('float32')\n",
    "    \n",
    "    return X_test['compliance']"
   ]
  },
  {
   "cell_type": "code",
   "execution_count": 23,
   "metadata": {},
   "outputs": [
    {
     "data": {
      "text/plain": [
       "ticket_id\n",
       "284932    0.698134\n",
       "285362    0.548315\n",
       "285361    0.756617\n",
       "285338    0.846667\n",
       "285346    0.560397\n",
       "285345    0.644350\n",
       "285347    0.936386\n",
       "285342    0.965349\n",
       "285530    0.176781\n",
       "284989    0.313517\n",
       "285344    0.936386\n",
       "285343    0.548315\n",
       "285340    0.548315\n",
       "285341    0.936386\n",
       "285349    0.289185\n",
       "285348    0.401311\n",
       "284991    0.313517\n",
       "285532    0.366832\n",
       "285406    0.459083\n",
       "285001    0.528260\n",
       "285006    0.285294\n",
       "285405    0.508486\n",
       "285337    0.687929\n",
       "285496    0.931806\n",
       "285497    0.846667\n",
       "285378    0.327270\n",
       "285589    0.407686\n",
       "285585    0.650391\n",
       "285501    0.756617\n",
       "285581    0.836061\n",
       "            ...   \n",
       "376367    0.574087\n",
       "376366    0.579980\n",
       "376362    0.681730\n",
       "376363    0.839088\n",
       "376365    0.574087\n",
       "376364    0.579980\n",
       "376228    0.484021\n",
       "376265    0.484021\n",
       "376286    0.859793\n",
       "376320    0.812271\n",
       "376314    0.812271\n",
       "376327    0.923484\n",
       "376385    0.953665\n",
       "376435    0.808541\n",
       "376370    0.882576\n",
       "376434    0.855808\n",
       "376459    0.817031\n",
       "376478    0.418009\n",
       "376473    0.703020\n",
       "376484    0.586257\n",
       "376482    0.718740\n",
       "376480    0.718740\n",
       "376479    0.718740\n",
       "376481    0.718740\n",
       "376483    0.718740\n",
       "376496    0.445010\n",
       "376497    0.445010\n",
       "376499    0.894197\n",
       "376500    0.894197\n",
       "369851    0.581888\n",
       "Name: compliance, Length: 61001, dtype: float32"
      ]
     },
     "execution_count": 23,
     "metadata": {},
     "output_type": "execute_result"
    }
   ],
   "source": [
    "blight_model()"
   ]
  }
 ],
 "metadata": {
  "coursera": {
   "course_slug": "python-machine-learning",
   "graded_item_id": "nNS8l",
   "launcher_item_id": "yWWk7",
   "part_id": "w8BSS"
  },
  "kernelspec": {
   "display_name": "Python 3",
   "language": "python",
   "name": "python3"
  },
  "language_info": {
   "codemirror_mode": {
    "name": "ipython",
    "version": 3
   },
   "file_extension": ".py",
   "mimetype": "text/x-python",
   "name": "python",
   "nbconvert_exporter": "python",
   "pygments_lexer": "ipython3",
   "version": "3.6.5"
  }
 },
 "nbformat": 4,
 "nbformat_minor": 2
}
